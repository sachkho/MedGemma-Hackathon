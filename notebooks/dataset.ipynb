{
 "cells": [
  {
   "cell_type": "code",
   "execution_count": 4,
   "id": "e67537b2",
   "metadata": {},
   "outputs": [],
   "source": [
    "import pandas as pd\n",
    "import json\n",
    "import os\n",
    "\n",
    "# Load CSVs\n",
    "img_meta=pd.read_csv(\"BBBC021_v1_image.csv\")\n",
    "img_meta=img_meta[img_meta['Image_PathName_DAPI'].str.contains(\"Week1_\")]\n",
    "img_meta[\"full_image_path\"] = img_meta[\"Image_PathName_DAPI\"]+\"/\"+img_meta[\"Image_FileName_DAPI\"]\n",
    "comp = pd.read_csv(\"BBBC021_v1_compound.csv\")\n",
    "moa = pd.read_csv(\"BBBC021_v1_moa.csv\")\n",
    "\n",
    "# Merge with SMILES and MoA\n",
    "comp = comp[['compound', 'smiles']]\n",
    "moa = moa[['compound', 'concentration', 'moa']]\n",
    "\n",
    "df = img_meta.merge(comp, left_on=\"Image_Metadata_Compound\", right_on=\"compound\", how='left') \\\n",
    "             .merge(moa, left_on=[\"Image_Metadata_Compound\", \"Image_Metadata_Concentration\"], \n",
    "                         right_on=[\"compound\", \"concentration\"], how='left')\n",
    "\n",
    "# Drop rows missing MoA or SMILES\n",
    "df = df.dropna(subset=['moa', 'smiles'])\n",
    "\n",
    "# Define root folder where Week1 images are stored\n",
    "root_folder = 'Week1_22123'\n",
    "\n",
    "# Generate JSONL file\n",
    "with open(\"bbbc021_week1_training.jsonl\", \"w\") as fout:\n",
    "    for _, r in df.iterrows():\n",
    "        # Construct full image path (e.g. Week1_22123/Week1_22123_Plate1_A01_s1_w1.TIF)\n",
    "        image_filename = r[\"Image_FileName_DAPI\"]\n",
    "        image_path = r[\"full_image_path\"]\n",
    "\n",
    "        compound = r[\"Image_Metadata_Compound\"]\n",
    "        smiles = r[\"smiles\"]\n",
    "        conc = r[\"Image_Metadata_Concentration\"]\n",
    "        moa_name = r[\"moa\"]\n",
    "\n",
    "        text = (f\"Compound: {compound}, Smiles: {smiles}, \"\n",
    "                f\"Concentration: {conc} µM, Mechanism of Action: {moa_name}\")\n",
    "\n",
    "        fout.write(json.dumps({\"image\": image_path, \"text\": text}) + \"\\n\")\n"
   ]
  }
 ],
 "metadata": {
  "kernelspec": {
   "display_name": "Python 3",
   "language": "python",
   "name": "python3"
  },
  "language_info": {
   "codemirror_mode": {
    "name": "ipython",
    "version": 3
   },
   "file_extension": ".py",
   "mimetype": "text/x-python",
   "name": "python",
   "nbconvert_exporter": "python",
   "pygments_lexer": "ipython3",
   "version": "3.13.3"
  }
 },
 "nbformat": 4,
 "nbformat_minor": 5
}
